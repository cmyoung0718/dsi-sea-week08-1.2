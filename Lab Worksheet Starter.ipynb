{
 "cells": [
  {
   "cell_type": "markdown",
   "metadata": {},
   "source": [
    "# Combinations\n",
    "\n",
    "### A combination is a selection of all or part of a set of objects, without regard to the order in which objects are selected.\n",
    "\n",
    "#### For example, suppose we have a set of three letters: A, B, and C. We might ask how many ways we can select 2 letters from that set. Each possible selection would be an example of a combination. The complete list of possible selections would be: AB, AC, and BC.\n",
    "\n",
    "#### When statisticians refer to combinations, they use a specific terminology. They describe combinations as n distinct objects taken r at a time. Translation: n refers to the number of objects from which the combination is formed; and r refers to the number of objects used to form the combination. Consider the example from the previous paragraph. The combinations were formed from 3 letters (A, B, and C), so n = 3; and each combination consisted of 2 letters, so r = 2.\n",
    "\n",
    "* Note that AB and BA are considered to be one combination, because the order in which objects are selected does not matter. This is the key distinction between a combination and a permutation. A combination focuses on the selection of objects without regard to the order in which they are selected. A permutation, in contrast, focuses on the arrangement of objects with regard to the order in which they are arranged."
   ]
  },
  {
   "cell_type": "markdown",
   "metadata": {},
   "source": [
    "## Problem 1: \n",
    "\n",
    "* Write a function that computes the number of combinations, given **n** distinct objects taken **r** at a time"
   ]
  },
  {
   "cell_type": "code",
   "execution_count": 24,
   "metadata": {
    "collapsed": false
   },
   "outputs": [
    {
     "name": "stdout",
     "output_type": "stream",
     "text": [
      "n:  15\n",
      "r:  5\n",
      "3003\n"
     ]
    }
   ],
   "source": [
    "import math\n",
    "\n",
    "def combinations(n,r):\n",
    "    return n,r\n",
    "\n",
    "n = 15\n",
    "r = 5\n",
    "print \"n: \" , n\n",
    "print \"r: \" , r\n",
    "print  combinations(n,r)"
   ]
  },
  {
   "cell_type": "markdown",
   "metadata": {},
   "source": [
    "# Permutations\n",
    "\n",
    "### A permutation is an arrangement of all or part of a set of objects, with regard to the order of the arrangement.\n",
    "\n",
    "#### For example, suppose we have a set of three letters: A, B, and C. We might ask how many ways we can arrange 2 letters from that set. Each possible arrangement would be an example of a permutation. The complete list of possible permutations would be: AB, AC, BA, BC, CA, and CB.\n",
    "\n",
    "#### When statisticians refer to permutations, they use a specific terminology. They describe permutations as n distinct objects taken r at a time. Translation: n refers to the number of objects from which the permutation is formed; and r refers to the number of objects used to form the permutation. Consider the example from the previous paragraph. The permutations were formed from 3 letters (A, B, and C), so n = 3; and each permutation consisted of 2 letters, so r = 2."
   ]
  },
  {
   "cell_type": "markdown",
   "metadata": {},
   "source": [
    "## Problem 2: \n",
    "\n",
    "* Write a function that computes the number of permutations, given **n** distinct objects taken **r** at a time"
   ]
  },
  {
   "cell_type": "code",
   "execution_count": 25,
   "metadata": {
    "collapsed": false
   },
   "outputs": [
    {
     "name": "stdout",
     "output_type": "stream",
     "text": [
      "n:  15\n",
      "r:  5\n",
      "360360\n"
     ]
    }
   ],
   "source": [
    "def permutations(n,r):\n",
    "    return n,r\n",
    "\n",
    "n = 15\n",
    "r = 5\n",
    "print \"n: \" , n\n",
    "print \"r: \" , r\n",
    "print  permutations(n,r)"
   ]
  },
  {
   "cell_type": "markdown",
   "metadata": {},
   "source": [
    "## Binomial Distribution\n",
    "\n",
    "### Gives the discrete probability distribution of obtaining exactly n successes out of N  Trials. Below is some cool code to quickly create benoulli trials."
   ]
  },
  {
   "cell_type": "code",
   "execution_count": 1,
   "metadata": {
    "collapsed": false
   },
   "outputs": [
    {
     "name": "stdout",
     "output_type": "stream",
     "text": [
      "[1 1 0 1 1 0 1 1 1 0 1 1 0 1 0 0 1 1 1 0 1 0 0 0 1 1 1 1 1 1 0 1 0 1 1 0 0\n",
      " 1 1 1 1 0 1 1 1 0 1 1 0 1 0 1 0 0 0 0 0 0 0 1 0 0 0 1 0 0 1 1 1 0 0 1 1 1\n",
      " 0 1 1 1 1 0 1 0 1 1 1 0 0 0 0 1 1 1 0 1 0 1 0 0 0 0]\n"
     ]
    }
   ],
   "source": [
    "# Using Bernoulli to simulate a coin toss\n",
    "import matplotlib.gridspec as gridspec\n",
    "\n",
    "from scipy.stats import bernoulli \n",
    "import numpy as np\n",
    "\n",
    "prob = .5 \n",
    "bernol = bernoulli(prob)\n",
    "\n",
    "def bernol_scheme(n):\n",
    "    return bernol.rvs(n)# flip it n times\n",
    "\n",
    "print(bernol_scheme(100))"
   ]
  },
  {
   "cell_type": "markdown",
   "metadata": {},
   "source": [
    "## Problem 3:\n",
    "* Write a function that creates a binomial distribution graph given **n** coin flips"
   ]
  },
  {
   "cell_type": "code",
   "execution_count": 4,
   "metadata": {
    "collapsed": false
   },
   "outputs": [
    {
     "data": {
      "image/png": "[encoded data removed]",
      "text/plain": [
       "<matplotlib.figure.Figure at 0x1061d7850>"
      ]
     },
     "metadata": {},
     "output_type": "display_data"
    }
   ],
   "source": [
    "%matplotlib inline\n",
    "from scipy import stats\n",
    "import math\n",
    "import pylab\n",
    "import numpy\n",
    "import matplotlib.pyplot as plt\n",
    "\n",
    "def createBinomialDistribution(n,r):\n",
    "    return n,r\n",
    "\n",
    "createBinomialDistribution(n,r)"
   ]
  },
  {
   "cell_type": "markdown",
   "metadata": {},
   "source": [
    "## Poisson Distribution\n",
    "\n",
    "### In probability theory and statistics, the Poisson distribution is a discrete probability distribution that expresses the probability of a given number of events occurring in a fixed interval of time and/or space if these events occur with a known average rate and independently of the time since the last event. The Poisson distribution can also be used for the number of events in other specified intervals such as distance, area or volume.\n",
    "\n",
    "### For instance, an individual keeping track of the amount of mail they receive each day may notice that they receive an average number of 4 letters per day. If receiving any particular piece of mail doesn't affect the arrival times of future pieces of mail, i.e., if pieces of mail from a wide range of sources arrive independently of one another, then a reasonable assumption is that the number of pieces of mail received per day obeys a Poisson distribution. Other examples that may follow a Poisson: the number of phone calls received by a call center per hour or the number of decay events per second from a radioactive source."
   ]
  },
  {
   "cell_type": "markdown",
   "metadata": {},
   "source": [
    "## Problem 4:\n",
    "* Write a function that creates a Poisson distribution graph given **n** coin flips"
   ]
  },
  {
   "cell_type": "code",
   "execution_count": 12,
   "metadata": {
    "collapsed": false
   },
   "outputs": [
    {
     "name": "stdout",
     "output_type": "stream",
     "text": [
      "Number of times until false seen\n",
      "[3 2 0 4 1 1 4 2 0 2 1 2 3 0 2 0 2 1 2 3 2 1 2 2 1 2 2 4 1 1 2 1 4 2 2 2 3\n",
      " 2 1 3 2 0 1 1 5 0 1 2 2 1 4 5 1 1 1 4 2 1 1 0 6 4 1 3 2 3 0 1 3 1 1 1 0 2\n",
      " 2 0 1 1 4 2 2 0 0 2 3 1 4 2 2 1 4 3 2 2 4 1 0 4 0 4]\n"
     ]
    },
    {
     "data": {
      "image/png": "[encoded data removed]",
      "text/plain": [
       "<matplotlib.figure.Figure at 0x10f57e590>"
      ]
     },
     "metadata": {},
     "output_type": "display_data"
    }
   ],
   "source": [
    "def createPoissonDistribution(n,r):\n",
    "    return n,r\n",
    "\n",
    "createPoissonDistribution(n,r)"
   ]
  },
  {
   "cell_type": "code",
   "execution_count": null,
   "metadata": {
    "collapsed": true
   },
   "outputs": [],
   "source": []
  }
 ],
 "metadata": {
  "anaconda-cloud": {},
  "kernelspec": {
   "display_name": "Python [Root]",
   "language": "python",
   "name": "Python [Root]"
  },
  "language_info": {
   "codemirror_mode": {
    "name": "ipython",
    "version": 2
   },
   "file_extension": ".py",
   "mimetype": "text/x-python",
   "name": "python",
   "nbconvert_exporter": "python",
   "pygments_lexer": "ipython2",
   "version": "2.7.12"
  }
 },
 "nbformat": 4,
 "nbformat_minor": 0
}
